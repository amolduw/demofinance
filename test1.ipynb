{
 "cells": [
  {
   "cell_type": "code",
   "execution_count": 101,
   "metadata": {},
   "outputs": [],
   "source": [
    "# import library\n",
    "from pymongo import MongoClient"
   ]
  },
  {
   "cell_type": "code",
   "execution_count": 102,
   "metadata": {},
   "outputs": [],
   "source": [
    "# Connection string\n",
    "client = MongoClient('mongodb://localhost:27017/')"
   ]
  },
  {
   "cell_type": "code",
   "execution_count": 103,
   "metadata": {},
   "outputs": [],
   "source": [
    "# accessing the database  \n",
    "mydatabase = client['test']\n",
    "# accessing the collection\n",
    "mycollection = mydatabase['demo1']\n",
    "tradescol = mydatabase['trades']"
   ]
  },
  {
   "cell_type": "code",
   "execution_count": 104,
   "metadata": {},
   "outputs": [],
   "source": [
    "# Insert demo data\n",
    "# Insert demo data\n",
    "rows = [\n",
    "        { 'date': '1/1/2021', 'symbol': 'TM', 'close':20, 'sma20':18.7, 'sma50':18.5, 'vwaphigh':17.8},\n",
    "        { 'date': '1/1/2021', 'symbol': 'DM', 'close':223, 'sma20':240, 'sma50':238, 'vwaphigh':265},\n",
    "        { 'date': '1/1/2021', 'symbol': 'QS', 'close':1023, 'sma20':1005, 'sma50':1010, 'vwaphigh':1045},\n",
    "        { 'date': '1/2/2021', 'symbol': 'TM', 'close':22, 'sma20':19.7, 'sma50':18.7, 'vwaphigh':18.8},\n",
    "        { 'date': '1/2/2021', 'symbol': 'DM', 'close':198, 'sma20':210, 'sma50':230, 'vwaphigh':245},\n",
    "        { 'date': '1/2/2021', 'symbol': 'QS', 'close':1045, 'sma20':1055, 'sma50':1050, 'vwaphigh':1055},\n",
    "        { 'date': '1/4/2021', 'symbol': 'TM', 'close':24, 'sma20':25.7, 'sma50':24.5, 'vwaphigh':24.2},\n",
    "        { 'date': '1/4/2021', 'symbol': 'DM', 'close':240, 'sma20':225, 'sma50':220, 'vwaphigh':235},\n",
    "        { 'date': '1/4/2021', 'symbol': 'QS', 'close':1080, 'sma20':1045, 'sma50':1050, 'vwaphigh':1065},\n",
    "        { 'date': '1/6/2021', 'symbol': 'TM', 'close':30.2, 'sma20':26.7, 'sma50':27.5, 'vwaphigh':27.8},\n",
    "        { 'date': '1/6/2021', 'symbol': 'DM', 'close':290, 'sma20':280, 'sma50':295, 'vwaphigh':285},\n",
    "        { 'date': '1/6/2021', 'symbol': 'QS', 'close':1130, 'sma20':1103, 'sma50':1060, 'vwaphigh':1095}\n",
    "       ]\n",
    "ins = mycollection.insert_many(rows)"
   ]
  },
  {
   "cell_type": "code",
   "execution_count": 105,
   "metadata": {},
   "outputs": [
    {
     "name": "stdout",
     "output_type": "stream",
     "text": [
      "{'_id': ObjectId('604c863d5d8e915dfc465123'), 'date': '1/1/2021', 'symbol': 'TM', 'close': 20, 'sma20': 18.7, 'sma50': 18.5, 'vwaphigh': 17.8}\n",
      "{'_id': ObjectId('604c863d5d8e915dfc465124'), 'date': '1/1/2021', 'symbol': 'DM', 'close': 223, 'sma20': 240, 'sma50': 238, 'vwaphigh': 265}\n"
     ]
    }
   ],
   "source": [
    "# Loop through all rows in collection, print first 2 rows\n",
    "i = 0\n",
    "for row in mycollection.find({}): \n",
    "    if (i<2):\n",
    "        print(row) \n",
    "    i+=1"
   ]
  },
  {
   "cell_type": "code",
   "execution_count": 106,
   "metadata": {},
   "outputs": [
    {
     "name": "stdout",
     "output_type": "stream",
     "text": [
      "['DM', 'QS', 'TM']\n"
     ]
    }
   ],
   "source": [
    "# Select distinct symbols\n",
    "symbols = mycollection.distinct('symbol')\n",
    "print(symbols)"
   ]
  },
  {
   "cell_type": "code",
   "execution_count": 109,
   "metadata": {
    "scrolled": true
   },
   "outputs": [
    {
     "name": "stdout",
     "output_type": "stream",
     "text": [
      "buy activated, symbol DM date: 1/1/2021 quantity: 179\n",
      "Sell activated, symbol: DM date: 1/2/2021 quantity: 179\n",
      "buy activated, symbol DM date: 1/4/2021 quantity: 167\n",
      "Sell activated, symbol: DM date: 1/6/2021 quantity: 167\n",
      "buy activated, symbol QS date: 1/2/2021 quantity: 38\n",
      "Sell activated, symbol: QS date: 1/4/2021 quantity: 38\n",
      "buy activated, symbol QS date: 1/6/2021 quantity: 35\n",
      "buy activated, symbol TM date: 1/1/2021 quantity: 2000\n",
      "Sell activated, symbol: TM date: 1/6/2021 quantity: 2000\n"
     ]
    }
   ],
   "source": [
    "# Loop through each symbol, get data in eahc symbol\n",
    "amount = 40000\n",
    "for sym in symbols:\n",
    "    activebuy = False\n",
    "    quantity = 0\n",
    "    x = None\n",
    "    data = mycollection.find({'symbol':sym})\n",
    "    for row in data:\n",
    "        # print (row['symbol'], row['sma20'], row['sma50'])\n",
    "        if ((activebuy is False) and (row['sma20'] > row['sma50'])):\n",
    "            # Buy the stock\n",
    "            activebuy = True\n",
    "            quantity = round(amount/row['close'])\n",
    "            buyTrade = {'symbol': row['symbol'], 'buydate': row['date'], 'buyprice': row['close'], \n",
    "                        'quantity': quantity, 'strategy':'sma20croosover50', 'status':'Open'}\n",
    "            x = tradescol.insert_one(buyTrade)\n",
    "            print('buy activated, symbol', row['symbol'], 'date:', row['date'], 'quantity:', quantity)\n",
    "        if ((activebuy is True) and (row['sma20'] < row['sma50'])):\n",
    "            # Sell the stock\n",
    "            sellTrade = {'selldate':row['date'], 'sellprice':row['close'], 'status':'closed'}\n",
    "            u = tradescol.update_one({\"_id\": x.inserted_id}, {\"$set\": sellTrade}, True) \n",
    "            print('Sell activated, symbol:', row['symbol'], 'date:', row['date'], 'quantity:', quantity)\n",
    "            activebuy = False\n",
    "            quantity = 0"
   ]
  },
  {
   "cell_type": "code",
   "execution_count": 111,
   "metadata": {},
   "outputs": [
    {
     "name": "stdout",
     "output_type": "stream",
     "text": [
      "DM 223 1/1/2021 179 198 1/2/2021 profit: -4475\n",
      "DM 240 1/4/2021 167 290 1/6/2021 profit: 8350\n",
      "QS 1045 1/2/2021 38 1080 1/4/2021 profit: 1330\n",
      "TM 20 1/1/2021 2000 30.2 1/6/2021 profit: 20400.0\n"
     ]
    }
   ],
   "source": [
    "# Loop through all trades\n",
    "for trade in tradescol.find({'status':'closed'}): \n",
    "        print(trade['symbol'], trade['buyprice'], trade['buydate'], trade['quantity'], \n",
    "              trade['sellprice'], trade['selldate'], 'profit:', (trade['sellprice'] - trade['buyprice'])*trade['quantity']) "
   ]
  },
  {
   "cell_type": "code",
   "execution_count": null,
   "metadata": {},
   "outputs": [],
   "source": []
  }
 ],
 "metadata": {
  "kernelspec": {
   "display_name": "Python 3",
   "language": "python",
   "name": "python3"
  },
  "language_info": {
   "codemirror_mode": {
    "name": "ipython",
    "version": 3
   },
   "file_extension": ".py",
   "mimetype": "text/x-python",
   "name": "python",
   "nbconvert_exporter": "python",
   "pygments_lexer": "ipython3",
   "version": "3.8.5"
  }
 },
 "nbformat": 4,
 "nbformat_minor": 4
}
