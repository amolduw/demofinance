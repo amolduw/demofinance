{
 "cells": [
  {
   "cell_type": "code",
   "execution_count": 6,
   "metadata": {},
   "outputs": [],
   "source": [
    "# import library\n",
    "from pymongo import MongoClient\n",
    "from pandas import DataFrame\n",
    "import pandas as pd\n",
    "import numpy as np"
   ]
  },
  {
   "cell_type": "code",
   "execution_count": 3,
   "metadata": {},
   "outputs": [],
   "source": [
    "# Connection string\n",
    "client = MongoClient('mongodb://localhost:27017/')"
   ]
  },
  {
   "cell_type": "code",
   "execution_count": 4,
   "metadata": {},
   "outputs": [],
   "source": [
    "# accessing the database  \n",
    "mydatabase = client['test']\n",
    "# accessing the collection\n",
    "mycollection = mydatabase['demo1']\n",
    "tradescol = mydatabase['trades']"
   ]
  },
  {
   "cell_type": "code",
   "execution_count": 104,
   "metadata": {},
   "outputs": [],
   "source": [
    "# Insert demo data\n",
    "rows = [\n",
    "        { 'date': '1/1/2021', 'symbol': 'TM', 'close':20, 'sma20':18.7, 'sma50':18.5, 'vwaphigh':17.8},\n",
    "        { 'date': '1/1/2021', 'symbol': 'DM', 'close':223, 'sma20':240, 'sma50':238, 'vwaphigh':265},\n",
    "        { 'date': '1/1/2021', 'symbol': 'QS', 'close':1023, 'sma20':1005, 'sma50':1010, 'vwaphigh':1045},\n",
    "        { 'date': '1/2/2021', 'symbol': 'TM', 'close':22, 'sma20':19.7, 'sma50':18.7, 'vwaphigh':18.8},\n",
    "        { 'date': '1/2/2021', 'symbol': 'DM', 'close':198, 'sma20':210, 'sma50':230, 'vwaphigh':245},\n",
    "        { 'date': '1/2/2021', 'symbol': 'QS', 'close':1045, 'sma20':1055, 'sma50':1050, 'vwaphigh':1055},\n",
    "        { 'date': '1/4/2021', 'symbol': 'TM', 'close':24, 'sma20':25.7, 'sma50':24.5, 'vwaphigh':24.2},\n",
    "        { 'date': '1/4/2021', 'symbol': 'DM', 'close':240, 'sma20':225, 'sma50':220, 'vwaphigh':235},\n",
    "        { 'date': '1/4/2021', 'symbol': 'QS', 'close':1080, 'sma20':1045, 'sma50':1050, 'vwaphigh':1065},\n",
    "        { 'date': '1/6/2021', 'symbol': 'TM', 'close':30.2, 'sma20':26.7, 'sma50':27.5, 'vwaphigh':27.8},\n",
    "        { 'date': '1/6/2021', 'symbol': 'DM', 'close':290, 'sma20':280, 'sma50':295, 'vwaphigh':285},\n",
    "        { 'date': '1/6/2021', 'symbol': 'QS', 'close':1130, 'sma20':1103, 'sma50':1060, 'vwaphigh':1095}\n",
    "       ]\n",
    "ins = mycollection.insert_many(rows)"
   ]
  },
  {
   "cell_type": "code",
   "execution_count": 11,
   "metadata": {},
   "outputs": [
    {
     "name": "stdout",
     "output_type": "stream",
     "text": [
      "1/1/2021 TM 20 18.7 18.5\n",
      "1/1/2021 DM 223 240 238\n"
     ]
    }
   ],
   "source": [
    "# Loop through all rows in collection, print first 2 rows\n",
    "i = 0\n",
    "for row in mycollection.find({}): \n",
    "    if (i<2):\n",
    "        print(row['date'], row['symbol'], row['close'], row['sma20'], row['sma50']) \n",
    "    i+=1"
   ]
  },
  {
   "cell_type": "code",
   "execution_count": 13,
   "metadata": {},
   "outputs": [
    {
     "data": {
      "text/html": [
       "<div>\n",
       "<style scoped>\n",
       "    .dataframe tbody tr th:only-of-type {\n",
       "        vertical-align: middle;\n",
       "    }\n",
       "\n",
       "    .dataframe tbody tr th {\n",
       "        vertical-align: top;\n",
       "    }\n",
       "\n",
       "    .dataframe thead th {\n",
       "        text-align: right;\n",
       "    }\n",
       "</style>\n",
       "<table border=\"1\" class=\"dataframe\">\n",
       "  <thead>\n",
       "    <tr style=\"text-align: right;\">\n",
       "      <th></th>\n",
       "      <th>_id</th>\n",
       "      <th>date</th>\n",
       "      <th>symbol</th>\n",
       "      <th>close</th>\n",
       "      <th>sma20</th>\n",
       "      <th>sma50</th>\n",
       "      <th>vwaphigh</th>\n",
       "    </tr>\n",
       "  </thead>\n",
       "  <tbody>\n",
       "    <tr>\n",
       "      <th>0</th>\n",
       "      <td>604c863d5d8e915dfc465123</td>\n",
       "      <td>1/1/2021</td>\n",
       "      <td>TM</td>\n",
       "      <td>20.0</td>\n",
       "      <td>18.7</td>\n",
       "      <td>18.5</td>\n",
       "      <td>17.8</td>\n",
       "    </tr>\n",
       "    <tr>\n",
       "      <th>1</th>\n",
       "      <td>604c863d5d8e915dfc465124</td>\n",
       "      <td>1/1/2021</td>\n",
       "      <td>DM</td>\n",
       "      <td>223.0</td>\n",
       "      <td>240.0</td>\n",
       "      <td>238.0</td>\n",
       "      <td>265.0</td>\n",
       "    </tr>\n",
       "    <tr>\n",
       "      <th>2</th>\n",
       "      <td>604c863d5d8e915dfc465125</td>\n",
       "      <td>1/1/2021</td>\n",
       "      <td>QS</td>\n",
       "      <td>1023.0</td>\n",
       "      <td>1005.0</td>\n",
       "      <td>1010.0</td>\n",
       "      <td>1045.0</td>\n",
       "    </tr>\n",
       "    <tr>\n",
       "      <th>3</th>\n",
       "      <td>604c863d5d8e915dfc465126</td>\n",
       "      <td>1/2/2021</td>\n",
       "      <td>TM</td>\n",
       "      <td>22.0</td>\n",
       "      <td>19.7</td>\n",
       "      <td>18.7</td>\n",
       "      <td>18.8</td>\n",
       "    </tr>\n",
       "    <tr>\n",
       "      <th>4</th>\n",
       "      <td>604c863d5d8e915dfc465127</td>\n",
       "      <td>1/2/2021</td>\n",
       "      <td>DM</td>\n",
       "      <td>198.0</td>\n",
       "      <td>210.0</td>\n",
       "      <td>230.0</td>\n",
       "      <td>245.0</td>\n",
       "    </tr>\n",
       "    <tr>\n",
       "      <th>5</th>\n",
       "      <td>604c863d5d8e915dfc465128</td>\n",
       "      <td>1/2/2021</td>\n",
       "      <td>QS</td>\n",
       "      <td>1045.0</td>\n",
       "      <td>1055.0</td>\n",
       "      <td>1050.0</td>\n",
       "      <td>1055.0</td>\n",
       "    </tr>\n",
       "    <tr>\n",
       "      <th>6</th>\n",
       "      <td>604c863d5d8e915dfc465129</td>\n",
       "      <td>1/4/2021</td>\n",
       "      <td>TM</td>\n",
       "      <td>24.0</td>\n",
       "      <td>25.7</td>\n",
       "      <td>24.5</td>\n",
       "      <td>24.2</td>\n",
       "    </tr>\n",
       "    <tr>\n",
       "      <th>7</th>\n",
       "      <td>604c863d5d8e915dfc46512a</td>\n",
       "      <td>1/4/2021</td>\n",
       "      <td>DM</td>\n",
       "      <td>240.0</td>\n",
       "      <td>225.0</td>\n",
       "      <td>220.0</td>\n",
       "      <td>235.0</td>\n",
       "    </tr>\n",
       "    <tr>\n",
       "      <th>8</th>\n",
       "      <td>604c863d5d8e915dfc46512b</td>\n",
       "      <td>1/4/2021</td>\n",
       "      <td>QS</td>\n",
       "      <td>1080.0</td>\n",
       "      <td>1045.0</td>\n",
       "      <td>1050.0</td>\n",
       "      <td>1065.0</td>\n",
       "    </tr>\n",
       "    <tr>\n",
       "      <th>9</th>\n",
       "      <td>604c863d5d8e915dfc46512c</td>\n",
       "      <td>1/6/2021</td>\n",
       "      <td>TM</td>\n",
       "      <td>30.2</td>\n",
       "      <td>26.7</td>\n",
       "      <td>27.5</td>\n",
       "      <td>27.8</td>\n",
       "    </tr>\n",
       "    <tr>\n",
       "      <th>10</th>\n",
       "      <td>604c863d5d8e915dfc46512d</td>\n",
       "      <td>1/6/2021</td>\n",
       "      <td>DM</td>\n",
       "      <td>290.0</td>\n",
       "      <td>280.0</td>\n",
       "      <td>295.0</td>\n",
       "      <td>285.0</td>\n",
       "    </tr>\n",
       "    <tr>\n",
       "      <th>11</th>\n",
       "      <td>604c863d5d8e915dfc46512e</td>\n",
       "      <td>1/6/2021</td>\n",
       "      <td>QS</td>\n",
       "      <td>1130.0</td>\n",
       "      <td>1103.0</td>\n",
       "      <td>1060.0</td>\n",
       "      <td>1095.0</td>\n",
       "    </tr>\n",
       "  </tbody>\n",
       "</table>\n",
       "</div>"
      ],
      "text/plain": [
       "                         _id      date symbol   close   sma20   sma50  \\\n",
       "0   604c863d5d8e915dfc465123  1/1/2021     TM    20.0    18.7    18.5   \n",
       "1   604c863d5d8e915dfc465124  1/1/2021     DM   223.0   240.0   238.0   \n",
       "2   604c863d5d8e915dfc465125  1/1/2021     QS  1023.0  1005.0  1010.0   \n",
       "3   604c863d5d8e915dfc465126  1/2/2021     TM    22.0    19.7    18.7   \n",
       "4   604c863d5d8e915dfc465127  1/2/2021     DM   198.0   210.0   230.0   \n",
       "5   604c863d5d8e915dfc465128  1/2/2021     QS  1045.0  1055.0  1050.0   \n",
       "6   604c863d5d8e915dfc465129  1/4/2021     TM    24.0    25.7    24.5   \n",
       "7   604c863d5d8e915dfc46512a  1/4/2021     DM   240.0   225.0   220.0   \n",
       "8   604c863d5d8e915dfc46512b  1/4/2021     QS  1080.0  1045.0  1050.0   \n",
       "9   604c863d5d8e915dfc46512c  1/6/2021     TM    30.2    26.7    27.5   \n",
       "10  604c863d5d8e915dfc46512d  1/6/2021     DM   290.0   280.0   295.0   \n",
       "11  604c863d5d8e915dfc46512e  1/6/2021     QS  1130.0  1103.0  1060.0   \n",
       "\n",
       "    vwaphigh  \n",
       "0       17.8  \n",
       "1      265.0  \n",
       "2     1045.0  \n",
       "3       18.8  \n",
       "4      245.0  \n",
       "5     1055.0  \n",
       "6       24.2  \n",
       "7      235.0  \n",
       "8     1065.0  \n",
       "9       27.8  \n",
       "10     285.0  \n",
       "11    1095.0  "
      ]
     },
     "execution_count": 13,
     "metadata": {},
     "output_type": "execute_result"
    }
   ],
   "source": [
    "# OR visualize dataframe\n",
    "# Convert to dataframe for tabular display\n",
    "data = mycollection.find({})\n",
    "df = DataFrame(list(data))\n",
    "df"
   ]
  },
  {
   "cell_type": "code",
   "execution_count": 106,
   "metadata": {},
   "outputs": [
    {
     "name": "stdout",
     "output_type": "stream",
     "text": [
      "['DM', 'QS', 'TM']\n"
     ]
    }
   ],
   "source": [
    "# Select distinct symbols\n",
    "symbols = mycollection.distinct('symbol')\n",
    "print(symbols)"
   ]
  },
  {
   "cell_type": "code",
   "execution_count": 109,
   "metadata": {
    "scrolled": true
   },
   "outputs": [
    {
     "name": "stdout",
     "output_type": "stream",
     "text": [
      "buy activated, symbol DM date: 1/1/2021 quantity: 179\n",
      "Sell activated, symbol: DM date: 1/2/2021 quantity: 179\n",
      "buy activated, symbol DM date: 1/4/2021 quantity: 167\n",
      "Sell activated, symbol: DM date: 1/6/2021 quantity: 167\n",
      "buy activated, symbol QS date: 1/2/2021 quantity: 38\n",
      "Sell activated, symbol: QS date: 1/4/2021 quantity: 38\n",
      "buy activated, symbol QS date: 1/6/2021 quantity: 35\n",
      "buy activated, symbol TM date: 1/1/2021 quantity: 2000\n",
      "Sell activated, symbol: TM date: 1/6/2021 quantity: 2000\n"
     ]
    }
   ],
   "source": [
    "# Strategy 1 - SMA 20 croosver 50\n",
    "# Loop through each symbol, get data in eahc symbol\n",
    "amount = 40000\n",
    "for sym in symbols:\n",
    "    activebuy = False\n",
    "    quantity = 0\n",
    "    x = None\n",
    "    data = mycollection.find({'symbol':sym})\n",
    "    for row in data:\n",
    "        # print (row['symbol'], row['sma20'], row['sma50'])\n",
    "        if ((activebuy is False) and (row['sma20'] > row['sma50'])):\n",
    "            # Buy the stock\n",
    "            activebuy = True\n",
    "            quantity = round(amount/row['close'])\n",
    "            buyTrade = {'symbol': row['symbol'], 'buydate': row['date'], 'buyprice': row['close'], \n",
    "                        'quantity': quantity, 'strategy':'sma20croosover50', 'status':'Open'}\n",
    "            x = tradescol.insert_one(buyTrade)\n",
    "            print('buy activated, symbol', row['symbol'], 'date:', row['date'], 'quantity:', quantity)\n",
    "        if ((activebuy is True) and (row['sma20'] < row['sma50'])):\n",
    "            # Sell the stock\n",
    "            sellTrade = {'selldate':row['date'], 'sellprice':row['close'], 'status':'closed'}\n",
    "            u = tradescol.update_one({\"_id\": x.inserted_id}, {\"$set\": sellTrade}, True) \n",
    "            print('Sell activated, symbol:', row['symbol'], 'date:', row['date'], 'quantity:', quantity)\n",
    "            activebuy = False\n",
    "            quantity = 0"
   ]
  },
  {
   "cell_type": "code",
   "execution_count": 14,
   "metadata": {},
   "outputs": [],
   "source": [
    "# Strategy 2 - Price close above VWAP from High"
   ]
  },
  {
   "cell_type": "code",
   "execution_count": 15,
   "metadata": {},
   "outputs": [],
   "source": [
    "# Strategy 3 - SMA 10 crossover 20"
   ]
  },
  {
   "cell_type": "code",
   "execution_count": 16,
   "metadata": {},
   "outputs": [],
   "source": [
    "# strategy 4 - EMA 5 crossover EMA 8"
   ]
  },
  {
   "cell_type": "code",
   "execution_count": 111,
   "metadata": {},
   "outputs": [
    {
     "name": "stdout",
     "output_type": "stream",
     "text": [
      "DM 223 1/1/2021 179 198 1/2/2021 profit: -4475\n",
      "DM 240 1/4/2021 167 290 1/6/2021 profit: 8350\n",
      "QS 1045 1/2/2021 38 1080 1/4/2021 profit: 1330\n",
      "TM 20 1/1/2021 2000 30.2 1/6/2021 profit: 20400.0\n"
     ]
    }
   ],
   "source": [
    "# Loop through all trades\n",
    "for trade in tradescol.find({'status':'closed'}): \n",
    "        print(trade['symbol'], trade['buyprice'], trade['buydate'], trade['quantity'], \n",
    "              trade['sellprice'], trade['selldate'], 'profit:', (trade['sellprice'] - trade['buyprice'])*trade['quantity']) "
   ]
  },
  {
   "cell_type": "code",
   "execution_count": 10,
   "metadata": {},
   "outputs": [
    {
     "data": {
      "text/html": [
       "<div>\n",
       "<style scoped>\n",
       "    .dataframe tbody tr th:only-of-type {\n",
       "        vertical-align: middle;\n",
       "    }\n",
       "\n",
       "    .dataframe tbody tr th {\n",
       "        vertical-align: top;\n",
       "    }\n",
       "\n",
       "    .dataframe thead th {\n",
       "        text-align: right;\n",
       "    }\n",
       "</style>\n",
       "<table border=\"1\" class=\"dataframe\">\n",
       "  <thead>\n",
       "    <tr style=\"text-align: right;\">\n",
       "      <th></th>\n",
       "      <th>symbol</th>\n",
       "      <th>buydate</th>\n",
       "      <th>selldate</th>\n",
       "      <th>buyprice</th>\n",
       "      <th>sellprice</th>\n",
       "      <th>profit</th>\n",
       "    </tr>\n",
       "  </thead>\n",
       "  <tbody>\n",
       "    <tr>\n",
       "      <th>0</th>\n",
       "      <td>DM</td>\n",
       "      <td>1/1/2021</td>\n",
       "      <td>1/2/2021</td>\n",
       "      <td>223</td>\n",
       "      <td>198.0</td>\n",
       "      <td>-4475.0</td>\n",
       "    </tr>\n",
       "    <tr>\n",
       "      <th>1</th>\n",
       "      <td>DM</td>\n",
       "      <td>1/4/2021</td>\n",
       "      <td>1/6/2021</td>\n",
       "      <td>240</td>\n",
       "      <td>290.0</td>\n",
       "      <td>8350.0</td>\n",
       "    </tr>\n",
       "    <tr>\n",
       "      <th>2</th>\n",
       "      <td>QS</td>\n",
       "      <td>1/2/2021</td>\n",
       "      <td>1/4/2021</td>\n",
       "      <td>1045</td>\n",
       "      <td>1080.0</td>\n",
       "      <td>1330.0</td>\n",
       "    </tr>\n",
       "    <tr>\n",
       "      <th>3</th>\n",
       "      <td>TM</td>\n",
       "      <td>1/1/2021</td>\n",
       "      <td>1/6/2021</td>\n",
       "      <td>20</td>\n",
       "      <td>30.2</td>\n",
       "      <td>20400.0</td>\n",
       "    </tr>\n",
       "  </tbody>\n",
       "</table>\n",
       "</div>"
      ],
      "text/plain": [
       "  symbol   buydate  selldate  buyprice  sellprice   profit\n",
       "0     DM  1/1/2021  1/2/2021       223      198.0  -4475.0\n",
       "1     DM  1/4/2021  1/6/2021       240      290.0   8350.0\n",
       "2     QS  1/2/2021  1/4/2021      1045     1080.0   1330.0\n",
       "3     TM  1/1/2021  1/6/2021        20       30.2  20400.0"
      ]
     },
     "execution_count": 10,
     "metadata": {},
     "output_type": "execute_result"
    }
   ],
   "source": [
    "# OR visualize trades in dataframe\n",
    "# Convert to dataframe for tabular display\n",
    "data = tradescol.find({'status':'closed'})\n",
    "list_data = list(data)\n",
    "df = DataFrame(list_data)\n",
    "df['profit'] = (df['sellprice']-df['buyprice'])*df['quantity']\n",
    "df[['symbol', 'buydate', 'selldate', 'buyprice', 'sellprice', 'profit']]"
   ]
  },
  {
   "cell_type": "code",
   "execution_count": null,
   "metadata": {},
   "outputs": [],
   "source": [
    "# Cleanup step\n",
    "# Drop all rows in mycollection\n",
    "#d = mycollection.delete_many({})\n",
    "# Drop all rows in trades\n",
    "# d = tradecol.delete_many({})"
   ]
  }
 ],
 "metadata": {
  "kernelspec": {
   "display_name": "Python 3",
   "language": "python",
   "name": "python3"
  },
  "language_info": {
   "codemirror_mode": {
    "name": "ipython",
    "version": 3
   },
   "file_extension": ".py",
   "mimetype": "text/x-python",
   "name": "python",
   "nbconvert_exporter": "python",
   "pygments_lexer": "ipython3",
   "version": "3.8.5"
  }
 },
 "nbformat": 4,
 "nbformat_minor": 4
}
